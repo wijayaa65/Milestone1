{
 "cells": [
  {
   "cell_type": "markdown",
   "metadata": {},
   "source": [
    "\n",
    "Milestone 1\n",
    "\n",
    "Nama  : Andryan Kalmer Wijaya\n",
    "Batch : RMT-030\n",
    "\n",
    "Program ini di buat untuk membantu pemliki rental sepeda"
   ]
  },
  {
   "cell_type": "markdown",
   "metadata": {},
   "source": [
    "# About data"
   ]
  },
  {
   "cell_type": "markdown",
   "metadata": {},
   "source": [
    "* https://www.kaggle.com/datasets/sreekargv/bike-rentals\n",
    "* https://public.tableau.com/views/h8dsft_Milestone1_Andryan_wijaya/Dashboard2?:language=en-GB&publish=yes&:sid=&:display_count=n&:origin=viz_share_link"
   ]
  },
  {
   "cell_type": "markdown",
   "metadata": {},
   "source": [
    "# Identifikasi Masalah"
   ]
  },
  {
   "cell_type": "markdown",
   "metadata": {},
   "source": [
    "## Problem statement"
   ]
  },
  {
   "cell_type": "markdown",
   "metadata": {},
   "source": [
    "Mengetahui faktor yang mempengaruhi peminjaman sepeda listrik di india"
   ]
  },
  {
   "cell_type": "markdown",
   "metadata": {},
   "source": [
    "## Objektif"
   ]
  },
  {
   "cell_type": "markdown",
   "metadata": {},
   "source": [
    "* jam berapa penyewaan paling banyak di gunakan\n",
    "* bagaimana kondisi penyewaan di setiap musimnya\n",
    "* apakah hari libur mnegalami penurunan di banding hari kerja\n",
    "* kapan waktu penywaan sepi"
   ]
  },
  {
   "cell_type": "markdown",
   "metadata": {},
   "source": [
    "## SMART"
   ]
  },
  {
   "cell_type": "markdown",
   "metadata": {},
   "source": [
    "- Spesifik: Menemukan waktu puncak untuk meningkatkan jumlah unit sepeda yang tersedia sehingga bisa mendapatkan profit maximal\n",
    "- Measurable: Mengukur jumlah sewa sepeda dalam rentang waktu, termasuk jam, musiman, hari libur, dan hari kerja.\n",
    "- Achievable: Memetakan waktu penggunaan sepeda untuk merencanakan peremajaan secara efisien, memastikan kondisi sepeda selalu baik.\n",
    "- Relevant: Kondisi baik dari sepeda sangat penting karena dapat mempengaruhi jumlah penyewaan dan kepuasan pelanggan.\n",
    "- Time-based: Pengolahan data akan selesai dalam dua hari."
   ]
  },
  {
   "cell_type": "markdown",
   "metadata": {},
   "source": [
    "# Data Loading"
   ]
  },
  {
   "cell_type": "code",
   "execution_count": 1,
   "metadata": {},
   "outputs": [
    {
     "data": {
      "text/html": [
       "<div>\n",
       "<style scoped>\n",
       "    .dataframe tbody tr th:only-of-type {\n",
       "        vertical-align: middle;\n",
       "    }\n",
       "\n",
       "    .dataframe tbody tr th {\n",
       "        vertical-align: top;\n",
       "    }\n",
       "\n",
       "    .dataframe thead th {\n",
       "        text-align: right;\n",
       "    }\n",
       "</style>\n",
       "<table border=\"1\" class=\"dataframe\">\n",
       "  <thead>\n",
       "    <tr style=\"text-align: right;\">\n",
       "      <th></th>\n",
       "      <th>datetime</th>\n",
       "      <th>season</th>\n",
       "      <th>holiday</th>\n",
       "      <th>workingday</th>\n",
       "      <th>weather</th>\n",
       "      <th>temp</th>\n",
       "      <th>atemp</th>\n",
       "      <th>humidity</th>\n",
       "      <th>windspeed</th>\n",
       "      <th>casual</th>\n",
       "      <th>registered</th>\n",
       "      <th>count</th>\n",
       "    </tr>\n",
       "  </thead>\n",
       "  <tbody>\n",
       "    <tr>\n",
       "      <th>0</th>\n",
       "      <td>2011-01-01 00:00:00</td>\n",
       "      <td>1</td>\n",
       "      <td>0</td>\n",
       "      <td>0</td>\n",
       "      <td>1</td>\n",
       "      <td>9.84</td>\n",
       "      <td>14.395</td>\n",
       "      <td>81</td>\n",
       "      <td>0.0000</td>\n",
       "      <td>3</td>\n",
       "      <td>13</td>\n",
       "      <td>16</td>\n",
       "    </tr>\n",
       "    <tr>\n",
       "      <th>1</th>\n",
       "      <td>2011-01-01 01:00:00</td>\n",
       "      <td>1</td>\n",
       "      <td>0</td>\n",
       "      <td>0</td>\n",
       "      <td>1</td>\n",
       "      <td>9.02</td>\n",
       "      <td>13.635</td>\n",
       "      <td>80</td>\n",
       "      <td>0.0000</td>\n",
       "      <td>8</td>\n",
       "      <td>32</td>\n",
       "      <td>40</td>\n",
       "    </tr>\n",
       "    <tr>\n",
       "      <th>2</th>\n",
       "      <td>2011-01-01 02:00:00</td>\n",
       "      <td>1</td>\n",
       "      <td>0</td>\n",
       "      <td>0</td>\n",
       "      <td>1</td>\n",
       "      <td>9.02</td>\n",
       "      <td>13.635</td>\n",
       "      <td>80</td>\n",
       "      <td>0.0000</td>\n",
       "      <td>5</td>\n",
       "      <td>27</td>\n",
       "      <td>32</td>\n",
       "    </tr>\n",
       "    <tr>\n",
       "      <th>3</th>\n",
       "      <td>2011-01-01 03:00:00</td>\n",
       "      <td>1</td>\n",
       "      <td>0</td>\n",
       "      <td>0</td>\n",
       "      <td>1</td>\n",
       "      <td>9.84</td>\n",
       "      <td>14.395</td>\n",
       "      <td>75</td>\n",
       "      <td>0.0000</td>\n",
       "      <td>3</td>\n",
       "      <td>10</td>\n",
       "      <td>13</td>\n",
       "    </tr>\n",
       "    <tr>\n",
       "      <th>4</th>\n",
       "      <td>2011-01-01 04:00:00</td>\n",
       "      <td>1</td>\n",
       "      <td>0</td>\n",
       "      <td>0</td>\n",
       "      <td>1</td>\n",
       "      <td>9.84</td>\n",
       "      <td>14.395</td>\n",
       "      <td>75</td>\n",
       "      <td>0.0000</td>\n",
       "      <td>0</td>\n",
       "      <td>1</td>\n",
       "      <td>1</td>\n",
       "    </tr>\n",
       "    <tr>\n",
       "      <th>...</th>\n",
       "      <td>...</td>\n",
       "      <td>...</td>\n",
       "      <td>...</td>\n",
       "      <td>...</td>\n",
       "      <td>...</td>\n",
       "      <td>...</td>\n",
       "      <td>...</td>\n",
       "      <td>...</td>\n",
       "      <td>...</td>\n",
       "      <td>...</td>\n",
       "      <td>...</td>\n",
       "      <td>...</td>\n",
       "    </tr>\n",
       "    <tr>\n",
       "      <th>10881</th>\n",
       "      <td>2012-12-19 19:00:00</td>\n",
       "      <td>4</td>\n",
       "      <td>0</td>\n",
       "      <td>1</td>\n",
       "      <td>1</td>\n",
       "      <td>15.58</td>\n",
       "      <td>19.695</td>\n",
       "      <td>50</td>\n",
       "      <td>26.0027</td>\n",
       "      <td>7</td>\n",
       "      <td>329</td>\n",
       "      <td>336</td>\n",
       "    </tr>\n",
       "    <tr>\n",
       "      <th>10882</th>\n",
       "      <td>2012-12-19 20:00:00</td>\n",
       "      <td>4</td>\n",
       "      <td>0</td>\n",
       "      <td>1</td>\n",
       "      <td>1</td>\n",
       "      <td>14.76</td>\n",
       "      <td>17.425</td>\n",
       "      <td>57</td>\n",
       "      <td>15.0013</td>\n",
       "      <td>10</td>\n",
       "      <td>231</td>\n",
       "      <td>241</td>\n",
       "    </tr>\n",
       "    <tr>\n",
       "      <th>10883</th>\n",
       "      <td>2012-12-19 21:00:00</td>\n",
       "      <td>4</td>\n",
       "      <td>0</td>\n",
       "      <td>1</td>\n",
       "      <td>1</td>\n",
       "      <td>13.94</td>\n",
       "      <td>15.910</td>\n",
       "      <td>61</td>\n",
       "      <td>15.0013</td>\n",
       "      <td>4</td>\n",
       "      <td>164</td>\n",
       "      <td>168</td>\n",
       "    </tr>\n",
       "    <tr>\n",
       "      <th>10884</th>\n",
       "      <td>2012-12-19 22:00:00</td>\n",
       "      <td>4</td>\n",
       "      <td>0</td>\n",
       "      <td>1</td>\n",
       "      <td>1</td>\n",
       "      <td>13.94</td>\n",
       "      <td>17.425</td>\n",
       "      <td>61</td>\n",
       "      <td>6.0032</td>\n",
       "      <td>12</td>\n",
       "      <td>117</td>\n",
       "      <td>129</td>\n",
       "    </tr>\n",
       "    <tr>\n",
       "      <th>10885</th>\n",
       "      <td>2012-12-19 23:00:00</td>\n",
       "      <td>4</td>\n",
       "      <td>0</td>\n",
       "      <td>1</td>\n",
       "      <td>1</td>\n",
       "      <td>13.12</td>\n",
       "      <td>16.665</td>\n",
       "      <td>66</td>\n",
       "      <td>8.9981</td>\n",
       "      <td>4</td>\n",
       "      <td>84</td>\n",
       "      <td>88</td>\n",
       "    </tr>\n",
       "  </tbody>\n",
       "</table>\n",
       "<p>10886 rows × 12 columns</p>\n",
       "</div>"
      ],
      "text/plain": [
       "                  datetime  season  holiday  workingday  weather   temp  \\\n",
       "0      2011-01-01 00:00:00       1        0           0        1   9.84   \n",
       "1      2011-01-01 01:00:00       1        0           0        1   9.02   \n",
       "2      2011-01-01 02:00:00       1        0           0        1   9.02   \n",
       "3      2011-01-01 03:00:00       1        0           0        1   9.84   \n",
       "4      2011-01-01 04:00:00       1        0           0        1   9.84   \n",
       "...                    ...     ...      ...         ...      ...    ...   \n",
       "10881  2012-12-19 19:00:00       4        0           1        1  15.58   \n",
       "10882  2012-12-19 20:00:00       4        0           1        1  14.76   \n",
       "10883  2012-12-19 21:00:00       4        0           1        1  13.94   \n",
       "10884  2012-12-19 22:00:00       4        0           1        1  13.94   \n",
       "10885  2012-12-19 23:00:00       4        0           1        1  13.12   \n",
       "\n",
       "        atemp  humidity  windspeed  casual  registered  count  \n",
       "0      14.395        81     0.0000       3          13     16  \n",
       "1      13.635        80     0.0000       8          32     40  \n",
       "2      13.635        80     0.0000       5          27     32  \n",
       "3      14.395        75     0.0000       3          10     13  \n",
       "4      14.395        75     0.0000       0           1      1  \n",
       "...       ...       ...        ...     ...         ...    ...  \n",
       "10881  19.695        50    26.0027       7         329    336  \n",
       "10882  17.425        57    15.0013      10         231    241  \n",
       "10883  15.910        61    15.0013       4         164    168  \n",
       "10884  17.425        61     6.0032      12         117    129  \n",
       "10885  16.665        66     8.9981       4          84     88  \n",
       "\n",
       "[10886 rows x 12 columns]"
      ]
     },
     "execution_count": 1,
     "metadata": {},
     "output_type": "execute_result"
    }
   ],
   "source": [
    "import pandas as pd \n",
    "import matplotlib.pyplot as plt \n",
    "import numpy as np\n",
    "import seaborn as sns \n",
    "import scipy\n",
    "#loading data\n",
    "df = pd.read_csv('Bikerentals.csv',index_col=False)\n",
    "df"
   ]
  },
  {
   "cell_type": "code",
   "execution_count": 2,
   "metadata": {},
   "outputs": [
    {
     "name": "stdout",
     "output_type": "stream",
     "text": [
      "<class 'pandas.core.frame.DataFrame'>\n",
      "RangeIndex: 10886 entries, 0 to 10885\n",
      "Data columns (total 12 columns):\n",
      " #   Column      Non-Null Count  Dtype  \n",
      "---  ------      --------------  -----  \n",
      " 0   datetime    10886 non-null  object \n",
      " 1   season      10886 non-null  int64  \n",
      " 2   holiday     10886 non-null  int64  \n",
      " 3   workingday  10886 non-null  int64  \n",
      " 4   weather     10886 non-null  int64  \n",
      " 5   temp        10886 non-null  float64\n",
      " 6   atemp       10886 non-null  float64\n",
      " 7   humidity    10886 non-null  int64  \n",
      " 8   windspeed   10886 non-null  float64\n",
      " 9   casual      10886 non-null  int64  \n",
      " 10  registered  10886 non-null  int64  \n",
      " 11  count       10886 non-null  int64  \n",
      "dtypes: float64(3), int64(8), object(1)\n",
      "memory usage: 1020.7+ KB\n"
     ]
    }
   ],
   "source": [
    "#mengetahui insight data\n",
    "df.info()"
   ]
  },
  {
   "cell_type": "markdown",
   "metadata": {},
   "source": [
    "# Data cleaning dan exploration"
   ]
  },
  {
   "cell_type": "code",
   "execution_count": 3,
   "metadata": {},
   "outputs": [
    {
     "data": {
      "text/plain": [
       "count    10886.000000\n",
       "mean        36.021955\n",
       "std         49.960477\n",
       "min          0.000000\n",
       "25%          4.000000\n",
       "50%         17.000000\n",
       "75%         49.000000\n",
       "max        367.000000\n",
       "Name: casual, dtype: float64"
      ]
     },
     "execution_count": 3,
     "metadata": {},
     "output_type": "execute_result"
    }
   ],
   "source": [
    "#mengtahui insght data\n",
    "df['casual'].describe()"
   ]
  },
  {
   "cell_type": "code",
   "execution_count": 4,
   "metadata": {},
   "outputs": [
    {
     "data": {
      "text/plain": [
       "count    10886.000000\n",
       "mean       155.552177\n",
       "std        151.039033\n",
       "min          0.000000\n",
       "25%         36.000000\n",
       "50%        118.000000\n",
       "75%        222.000000\n",
       "max        886.000000\n",
       "Name: registered, dtype: float64"
      ]
     },
     "execution_count": 4,
     "metadata": {},
     "output_type": "execute_result"
    }
   ],
   "source": [
    "#mengtahui insght data\n",
    "df['registered'].describe()"
   ]
  },
  {
   "cell_type": "code",
   "execution_count": 5,
   "metadata": {},
   "outputs": [
    {
     "data": {
      "text/plain": [
       "count    10886.000000\n",
       "mean       191.574132\n",
       "std        181.144454\n",
       "min          1.000000\n",
       "25%         42.000000\n",
       "50%        145.000000\n",
       "75%        284.000000\n",
       "max        977.000000\n",
       "Name: count, dtype: float64"
      ]
     },
     "execution_count": 5,
     "metadata": {},
     "output_type": "execute_result"
    }
   ],
   "source": [
    "#mengtahui insght data\n",
    "df['count'].describe()"
   ]
  },
  {
   "cell_type": "code",
   "execution_count": 6,
   "metadata": {},
   "outputs": [],
   "source": [
    "#mengubah data type \n",
    "df['datetime']=pd.to_datetime(df['datetime'])"
   ]
  },
  {
   "cell_type": "code",
   "execution_count": 7,
   "metadata": {},
   "outputs": [],
   "source": [
    "#mengubah kategorik numerik menjadi string yang mudah di pahami\n",
    "def season(musim):\n",
    "    if musim == 1:\n",
    "        return 'spring'\n",
    "    elif musim == 2:\n",
    "        return 'summer'\n",
    "    elif musim == 3:\n",
    "        return 'fall'\n",
    "    elif musim == 4:\n",
    "        return 'winter'\n",
    "    else:\n",
    "        return 'Nan'\n",
    "#menggunakan fungsi    \n",
    "df['season']=df['season'].apply(season)"
   ]
  },
  {
   "cell_type": "code",
   "execution_count": 8,
   "metadata": {},
   "outputs": [],
   "source": [
    "#mengubah kategorik numerik menjadi string yang mudah di pahami\n",
    "def weather(cuaca):\n",
    "    if cuaca == 1:\n",
    "        return 'clear'\n",
    "    elif cuaca == 2:\n",
    "        return 'cloudy'\n",
    "    elif cuaca == 3:\n",
    "        return 'rain'\n",
    "    elif cuaca == 4:\n",
    "        return 'heavy rain'\n",
    "    else:\n",
    "        return 'Nan'\n",
    " #menggunakan fungsi    \n",
    "df['weather']=df['weather'].apply(weather)"
   ]
  },
  {
   "cell_type": "code",
   "execution_count": 9,
   "metadata": {},
   "outputs": [],
   "source": [
    "df=df.drop(columns='holiday')\n",
    "#menghilangkan kolom holiday"
   ]
  },
  {
   "cell_type": "code",
   "execution_count": 10,
   "metadata": {},
   "outputs": [],
   "source": [
    "#mengubah kategorik numerik menjadi string yang mudah di pahami\n",
    "def libur(holiday):\n",
    "    if holiday == 0:\n",
    "        return 'Workday'\n",
    "    else:\n",
    "        return 'Holiday'\n",
    "  #menggunakan fungsi     \n",
    "df['workingday']=df['workingday'].apply(libur)"
   ]
  },
  {
   "cell_type": "code",
   "execution_count": 11,
   "metadata": {},
   "outputs": [],
   "source": [
    "#mengambil jam pada kolom datetime\n",
    "df['hour']=df['datetime'].dt.hour"
   ]
  },
  {
   "cell_type": "code",
   "execution_count": 12,
   "metadata": {},
   "outputs": [
    {
     "data": {
      "text/html": [
       "<div>\n",
       "<style scoped>\n",
       "    .dataframe tbody tr th:only-of-type {\n",
       "        vertical-align: middle;\n",
       "    }\n",
       "\n",
       "    .dataframe tbody tr th {\n",
       "        vertical-align: top;\n",
       "    }\n",
       "\n",
       "    .dataframe thead th {\n",
       "        text-align: right;\n",
       "    }\n",
       "</style>\n",
       "<table border=\"1\" class=\"dataframe\">\n",
       "  <thead>\n",
       "    <tr style=\"text-align: right;\">\n",
       "      <th></th>\n",
       "      <th>datetime</th>\n",
       "      <th>season</th>\n",
       "      <th>workingday</th>\n",
       "      <th>weather</th>\n",
       "      <th>temp</th>\n",
       "      <th>atemp</th>\n",
       "      <th>humidity</th>\n",
       "      <th>windspeed</th>\n",
       "      <th>casual</th>\n",
       "      <th>registered</th>\n",
       "      <th>count</th>\n",
       "      <th>hour</th>\n",
       "    </tr>\n",
       "  </thead>\n",
       "  <tbody>\n",
       "    <tr>\n",
       "      <th>0</th>\n",
       "      <td>2011-01-01 00:00:00</td>\n",
       "      <td>spring</td>\n",
       "      <td>Workday</td>\n",
       "      <td>clear</td>\n",
       "      <td>9.84</td>\n",
       "      <td>14.395</td>\n",
       "      <td>81</td>\n",
       "      <td>0.0</td>\n",
       "      <td>3</td>\n",
       "      <td>13</td>\n",
       "      <td>16</td>\n",
       "      <td>0</td>\n",
       "    </tr>\n",
       "    <tr>\n",
       "      <th>1</th>\n",
       "      <td>2011-01-01 01:00:00</td>\n",
       "      <td>spring</td>\n",
       "      <td>Workday</td>\n",
       "      <td>clear</td>\n",
       "      <td>9.02</td>\n",
       "      <td>13.635</td>\n",
       "      <td>80</td>\n",
       "      <td>0.0</td>\n",
       "      <td>8</td>\n",
       "      <td>32</td>\n",
       "      <td>40</td>\n",
       "      <td>1</td>\n",
       "    </tr>\n",
       "    <tr>\n",
       "      <th>2</th>\n",
       "      <td>2011-01-01 02:00:00</td>\n",
       "      <td>spring</td>\n",
       "      <td>Workday</td>\n",
       "      <td>clear</td>\n",
       "      <td>9.02</td>\n",
       "      <td>13.635</td>\n",
       "      <td>80</td>\n",
       "      <td>0.0</td>\n",
       "      <td>5</td>\n",
       "      <td>27</td>\n",
       "      <td>32</td>\n",
       "      <td>2</td>\n",
       "    </tr>\n",
       "    <tr>\n",
       "      <th>3</th>\n",
       "      <td>2011-01-01 03:00:00</td>\n",
       "      <td>spring</td>\n",
       "      <td>Workday</td>\n",
       "      <td>clear</td>\n",
       "      <td>9.84</td>\n",
       "      <td>14.395</td>\n",
       "      <td>75</td>\n",
       "      <td>0.0</td>\n",
       "      <td>3</td>\n",
       "      <td>10</td>\n",
       "      <td>13</td>\n",
       "      <td>3</td>\n",
       "    </tr>\n",
       "    <tr>\n",
       "      <th>4</th>\n",
       "      <td>2011-01-01 04:00:00</td>\n",
       "      <td>spring</td>\n",
       "      <td>Workday</td>\n",
       "      <td>clear</td>\n",
       "      <td>9.84</td>\n",
       "      <td>14.395</td>\n",
       "      <td>75</td>\n",
       "      <td>0.0</td>\n",
       "      <td>0</td>\n",
       "      <td>1</td>\n",
       "      <td>1</td>\n",
       "      <td>4</td>\n",
       "    </tr>\n",
       "  </tbody>\n",
       "</table>\n",
       "</div>"
      ],
      "text/plain": [
       "             datetime  season workingday weather  temp   atemp  humidity  \\\n",
       "0 2011-01-01 00:00:00  spring    Workday   clear  9.84  14.395        81   \n",
       "1 2011-01-01 01:00:00  spring    Workday   clear  9.02  13.635        80   \n",
       "2 2011-01-01 02:00:00  spring    Workday   clear  9.02  13.635        80   \n",
       "3 2011-01-01 03:00:00  spring    Workday   clear  9.84  14.395        75   \n",
       "4 2011-01-01 04:00:00  spring    Workday   clear  9.84  14.395        75   \n",
       "\n",
       "   windspeed  casual  registered  count  hour  \n",
       "0        0.0       3          13     16     0  \n",
       "1        0.0       8          32     40     1  \n",
       "2        0.0       5          27     32     2  \n",
       "3        0.0       3          10     13     3  \n",
       "4        0.0       0           1      1     4  "
      ]
     },
     "execution_count": 12,
     "metadata": {},
     "output_type": "execute_result"
    }
   ],
   "source": [
    "df.head()"
   ]
  },
  {
   "cell_type": "code",
   "execution_count": 13,
   "metadata": {},
   "outputs": [],
   "source": [
    "#mengubah type data menjadi objek karena bukan untuk perhitunganmelainkan kategorik\n",
    "df['hour']=df['hour'].astype('object')"
   ]
  },
  {
   "cell_type": "code",
   "execution_count": 14,
   "metadata": {},
   "outputs": [
    {
     "name": "stdout",
     "output_type": "stream",
     "text": [
      "<class 'pandas.core.frame.DataFrame'>\n",
      "RangeIndex: 10886 entries, 0 to 10885\n",
      "Data columns (total 12 columns):\n",
      " #   Column      Non-Null Count  Dtype         \n",
      "---  ------      --------------  -----         \n",
      " 0   datetime    10886 non-null  datetime64[ns]\n",
      " 1   season      10886 non-null  object        \n",
      " 2   workingday  10886 non-null  object        \n",
      " 3   weather     10886 non-null  object        \n",
      " 4   temp        10886 non-null  float64       \n",
      " 5   atemp       10886 non-null  float64       \n",
      " 6   humidity    10886 non-null  int64         \n",
      " 7   windspeed   10886 non-null  float64       \n",
      " 8   casual      10886 non-null  int64         \n",
      " 9   registered  10886 non-null  int64         \n",
      " 10  count       10886 non-null  int64         \n",
      " 11  hour        10886 non-null  object        \n",
      "dtypes: datetime64[ns](1), float64(3), int64(4), object(4)\n",
      "memory usage: 1020.7+ KB\n"
     ]
    }
   ],
   "source": [
    "df.info()"
   ]
  },
  {
   "cell_type": "code",
   "execution_count": 15,
   "metadata": {},
   "outputs": [],
   "source": [
    "#menyimpan hasil ke csv\n",
    "df.to_csv('final.csv',index=False)"
   ]
  },
  {
   "cell_type": "markdown",
   "metadata": {},
   "source": [
    "# Analisa"
   ]
  },
  {
   "cell_type": "code",
   "execution_count": 16,
   "metadata": {},
   "outputs": [
    {
     "data": {
      "text/html": [
       "<div>\n",
       "<style scoped>\n",
       "    .dataframe tbody tr th:only-of-type {\n",
       "        vertical-align: middle;\n",
       "    }\n",
       "\n",
       "    .dataframe tbody tr th {\n",
       "        vertical-align: top;\n",
       "    }\n",
       "\n",
       "    .dataframe thead th {\n",
       "        text-align: right;\n",
       "    }\n",
       "</style>\n",
       "<table border=\"1\" class=\"dataframe\">\n",
       "  <thead>\n",
       "    <tr style=\"text-align: right;\">\n",
       "      <th></th>\n",
       "      <th>datetime</th>\n",
       "      <th>season</th>\n",
       "      <th>workingday</th>\n",
       "      <th>weather</th>\n",
       "      <th>temp</th>\n",
       "      <th>atemp</th>\n",
       "      <th>humidity</th>\n",
       "      <th>windspeed</th>\n",
       "      <th>casual</th>\n",
       "      <th>registered</th>\n",
       "      <th>count</th>\n",
       "      <th>hour</th>\n",
       "    </tr>\n",
       "  </thead>\n",
       "  <tbody>\n",
       "    <tr>\n",
       "      <th>0</th>\n",
       "      <td>2011-01-01 00:00:00</td>\n",
       "      <td>spring</td>\n",
       "      <td>Workday</td>\n",
       "      <td>clear</td>\n",
       "      <td>9.84</td>\n",
       "      <td>14.395</td>\n",
       "      <td>81</td>\n",
       "      <td>0.0</td>\n",
       "      <td>3</td>\n",
       "      <td>13</td>\n",
       "      <td>16</td>\n",
       "      <td>0</td>\n",
       "    </tr>\n",
       "    <tr>\n",
       "      <th>1</th>\n",
       "      <td>2011-01-01 01:00:00</td>\n",
       "      <td>spring</td>\n",
       "      <td>Workday</td>\n",
       "      <td>clear</td>\n",
       "      <td>9.02</td>\n",
       "      <td>13.635</td>\n",
       "      <td>80</td>\n",
       "      <td>0.0</td>\n",
       "      <td>8</td>\n",
       "      <td>32</td>\n",
       "      <td>40</td>\n",
       "      <td>1</td>\n",
       "    </tr>\n",
       "    <tr>\n",
       "      <th>2</th>\n",
       "      <td>2011-01-01 02:00:00</td>\n",
       "      <td>spring</td>\n",
       "      <td>Workday</td>\n",
       "      <td>clear</td>\n",
       "      <td>9.02</td>\n",
       "      <td>13.635</td>\n",
       "      <td>80</td>\n",
       "      <td>0.0</td>\n",
       "      <td>5</td>\n",
       "      <td>27</td>\n",
       "      <td>32</td>\n",
       "      <td>2</td>\n",
       "    </tr>\n",
       "    <tr>\n",
       "      <th>3</th>\n",
       "      <td>2011-01-01 03:00:00</td>\n",
       "      <td>spring</td>\n",
       "      <td>Workday</td>\n",
       "      <td>clear</td>\n",
       "      <td>9.84</td>\n",
       "      <td>14.395</td>\n",
       "      <td>75</td>\n",
       "      <td>0.0</td>\n",
       "      <td>3</td>\n",
       "      <td>10</td>\n",
       "      <td>13</td>\n",
       "      <td>3</td>\n",
       "    </tr>\n",
       "    <tr>\n",
       "      <th>4</th>\n",
       "      <td>2011-01-01 04:00:00</td>\n",
       "      <td>spring</td>\n",
       "      <td>Workday</td>\n",
       "      <td>clear</td>\n",
       "      <td>9.84</td>\n",
       "      <td>14.395</td>\n",
       "      <td>75</td>\n",
       "      <td>0.0</td>\n",
       "      <td>0</td>\n",
       "      <td>1</td>\n",
       "      <td>1</td>\n",
       "      <td>4</td>\n",
       "    </tr>\n",
       "  </tbody>\n",
       "</table>\n",
       "</div>"
      ],
      "text/plain": [
       "             datetime  season workingday weather  temp   atemp  humidity  \\\n",
       "0 2011-01-01 00:00:00  spring    Workday   clear  9.84  14.395        81   \n",
       "1 2011-01-01 01:00:00  spring    Workday   clear  9.02  13.635        80   \n",
       "2 2011-01-01 02:00:00  spring    Workday   clear  9.02  13.635        80   \n",
       "3 2011-01-01 03:00:00  spring    Workday   clear  9.84  14.395        75   \n",
       "4 2011-01-01 04:00:00  spring    Workday   clear  9.84  14.395        75   \n",
       "\n",
       "   windspeed  casual  registered  count hour  \n",
       "0        0.0       3          13     16    0  \n",
       "1        0.0       8          32     40    1  \n",
       "2        0.0       5          27     32    2  \n",
       "3        0.0       3          10     13    3  \n",
       "4        0.0       0           1      1    4  "
      ]
     },
     "execution_count": 16,
     "metadata": {},
     "output_type": "execute_result"
    }
   ],
   "source": [
    "df.head()"
   ]
  },
  {
   "cell_type": "code",
   "execution_count": 17,
   "metadata": {},
   "outputs": [
    {
     "data": {
      "text/plain": [
       "datetime      2012-12-19 23:00:00\n",
       "season                     winter\n",
       "workingday                Workday\n",
       "weather                      rain\n",
       "temp                         41.0\n",
       "atemp                      45.455\n",
       "humidity                      100\n",
       "windspeed                 56.9969\n",
       "casual                        367\n",
       "registered                    886\n",
       "count                         977\n",
       "hour                           23\n",
       "dtype: object"
      ]
     },
     "execution_count": 17,
     "metadata": {},
     "output_type": "execute_result"
    }
   ],
   "source": [
    "df.max()"
   ]
  },
  {
   "cell_type": "markdown",
   "metadata": {},
   "source": [
    "teramainya peminjaman pernah terjadi pada 19 desember di hari kerja dengan jumlah peminjaman sebanyak 977"
   ]
  },
  {
   "cell_type": "code",
   "execution_count": 18,
   "metadata": {},
   "outputs": [
    {
     "data": {
      "text/plain": [
       "datetime      2011-01-01 00:00:00\n",
       "season                       fall\n",
       "workingday                Holiday\n",
       "weather                     clear\n",
       "temp                         0.82\n",
       "atemp                        0.76\n",
       "humidity                        0\n",
       "windspeed                     0.0\n",
       "casual                          0\n",
       "registered                      0\n",
       "count                           1\n",
       "hour                            0\n",
       "dtype: object"
      ]
     },
     "execution_count": 18,
     "metadata": {},
     "output_type": "execute_result"
    }
   ],
   "source": [
    "df.min()"
   ]
  },
  {
   "cell_type": "markdown",
   "metadata": {},
   "source": [
    "tersepinya pengguna sepeda terjadi pada 1 januari di hari libur dengan jumlah peminjmam 1 unit"
   ]
  },
  {
   "cell_type": "code",
   "execution_count": 19,
   "metadata": {},
   "outputs": [
    {
     "data": {
      "text/plain": [
       "191.57413191254824"
      ]
     },
     "execution_count": 19,
     "metadata": {},
     "output_type": "execute_result"
    }
   ],
   "source": [
    "#mencari rata rata\n",
    "df['count'].mean()"
   ]
  },
  {
   "cell_type": "markdown",
   "metadata": {},
   "source": [
    "dengan rata rata peminjma keseluruhan data 191 unit"
   ]
  },
  {
   "cell_type": "code",
   "execution_count": 20,
   "metadata": {},
   "outputs": [
    {
     "name": "stdout",
     "output_type": "stream",
     "text": [
      "Nilai skewness 1.2420662117180776\n"
     ]
    }
   ],
   "source": [
    "#mencari niali skew\n",
    "print(\"Nilai skewness\",df['count'].skew())"
   ]
  },
  {
   "cell_type": "markdown",
   "metadata": {},
   "source": [
    "menunjukan data tidak berdsitribusi normal dengan kecendrungan data condong ke modus"
   ]
  },
  {
   "cell_type": "markdown",
   "metadata": {},
   "source": [
    "### Dalam jam libur dan hari kerja"
   ]
  },
  {
   "cell_type": "code",
   "execution_count": 21,
   "metadata": {},
   "outputs": [],
   "source": [
    "#data dalam jam\n",
    "countdalamjam =df.groupby(df['datetime'].dt.hour)['count'].mean()"
   ]
  },
  {
   "cell_type": "markdown",
   "metadata": {},
   "source": [
    "kenapa mean karena kita inigin mencari tau rata rata pengguna setiap jamnya"
   ]
  },
  {
   "cell_type": "code",
   "execution_count": 22,
   "metadata": {},
   "outputs": [
    {
     "name": "stdout",
     "output_type": "stream",
     "text": [
      "Maximum peminjam dalam jam: 468.765350877193\n",
      "Minimum peminjam dalam jam: 6.407239819004525\n",
      "Rata-Rata peminjam dalam jam: 190.74204496036154\n"
     ]
    }
   ],
   "source": [
    "#mecari max min mean\n",
    "maksimum=countdalamjam.max()\n",
    "minimum=countdalamjam.min()\n",
    "ratarata=countdalamjam.mean()\n",
    "\n",
    "print(\"Maximum peminjam dalam jam:\",maksimum)\n",
    "print(\"Minimum peminjam dalam jam:\",minimum)\n",
    "print(\"Rata-Rata peminjam dalam jam:\",ratarata)\n"
   ]
  },
  {
   "cell_type": "markdown",
   "metadata": {},
   "source": [
    "pengunaan terbanyak mencapai 468 user, dengan penguana tersepi di 6 user dan rata rata pengguna sebanyak 190 orang perjamnya"
   ]
  },
  {
   "cell_type": "code",
   "execution_count": 23,
   "metadata": {},
   "outputs": [
    {
     "name": "stdout",
     "output_type": "stream",
     "text": [
      "Skewness: 0.2931107364000431\n"
     ]
    }
   ],
   "source": [
    "#mecanri skew\n",
    "skewness=countdalamjam.skew()\n",
    "print(\"Skewness:\",skewness)"
   ]
  },
  {
   "cell_type": "markdown",
   "metadata": {},
   "source": [
    "dari hasil skew kita bisa mengetahui data berdistribusi normal"
   ]
  },
  {
   "cell_type": "code",
   "execution_count": 24,
   "metadata": {},
   "outputs": [
    {
     "name": "stdout",
     "output_type": "stream",
     "text": [
      "kurtosis: -0.6063704477769547\n"
     ]
    }
   ],
   "source": [
    "#mencari kurtosis\n",
    "kurtosis=countdalamjam.kurtosis()\n",
    "print(\"kurtosis:\",kurtosis)"
   ]
  },
  {
   "cell_type": "markdown",
   "metadata": {},
   "source": [
    "dari hasil kurtosis di atas bisa kita lihat bahwa data memiliki sifat yang mendatar atau jarang ada extreme value"
   ]
  },
  {
   "cell_type": "code",
   "execution_count": 25,
   "metadata": {},
   "outputs": [
    {
     "data": {
      "text/plain": [
       "<Axes: xlabel='count'>"
      ]
     },
     "execution_count": 25,
     "metadata": {},
     "output_type": "execute_result"
    },
    {
     "data": {
      "image/png": "[encoded data removed]",
      "text/plain": [
       "<Figure size 640x480 with 1 Axes>"
      ]
     },
     "metadata": {},
     "output_type": "display_data"
    }
   ],
   "source": [
    "#membuat barplot\n",
    "countdalamjam.plot(kind='bar',xlabel='count')"
   ]
  },
  {
   "cell_type": "markdown",
   "metadata": {},
   "source": [
    "dari plot di atas kita bisa mengetahui bahwa penggunaan terbanyak di jam 5 sore dengan tersepinya di jam 4 pagi"
   ]
  },
  {
   "cell_type": "code",
   "execution_count": 26,
   "metadata": {},
   "outputs": [
    {
     "data": {
      "text/plain": [
       "<Axes: >"
      ]
     },
     "execution_count": 26,
     "metadata": {},
     "output_type": "execute_result"
    },
    {
     "data": {
      "image/png": "[encoded data removed]",
      "text/plain": [
       "<Figure size 640x480 with 1 Axes>"
      ]
     },
     "metadata": {},
     "output_type": "display_data"
    }
   ],
   "source": [
    "#membuat boxplot\n",
    "countdalamjam.plot(kind='box')"
   ]
  },
  {
   "cell_type": "markdown",
   "metadata": {},
   "source": [
    "Dari gambar boxplot kita tidak melihat outlier, di dukung skew yang nilainya di bawah 0,5. data hampir berdistribusi normal. jika memang ada outlier tidak berpengaruh signifkan."
   ]
  },
  {
   "cell_type": "markdown",
   "metadata": {},
   "source": [
    "### Dalam jam Hari kerja"
   ]
  },
  {
   "cell_type": "code",
   "execution_count": 27,
   "metadata": {},
   "outputs": [],
   "source": [
    "#data kerja dalam jam\n",
    "countdalamjamharikerja =df[(df['workingday']=='Workday')].groupby(df['datetime'].dt.hour)['count'].mean()"
   ]
  },
  {
   "cell_type": "code",
   "execution_count": 28,
   "metadata": {},
   "outputs": [
    {
     "name": "stdout",
     "output_type": "stream",
     "text": [
      "Maximum peminjam dalam jam dihari kerja: 387.82068965517243\n",
      "Minimum peminjam dalam jam dihari kerja: 8.544827586206896\n",
      "Rata-Rata peminjam dalam jam dihari kerja: 188.22791693793923\n"
     ]
    }
   ],
   "source": [
    "#mecari max min mean\n",
    "maksimum=countdalamjamharikerja.max()\n",
    "minimum=countdalamjamharikerja.min()\n",
    "ratarata=countdalamjamharikerja.mean()\n",
    "\n",
    "print(\"Maximum peminjam dalam jam dihari kerja:\",maksimum)\n",
    "print(\"Minimum peminjam dalam jam dihari kerja:\",minimum)\n",
    "print(\"Rata-Rata peminjam dalam jam dihari kerja:\",ratarata)"
   ]
  },
  {
   "cell_type": "markdown",
   "metadata": {},
   "source": [
    "dalam hari kerja kita medanaptkan maximal jumlah peminjaman berada di 387 orang dan minumnya di 8 org per jamnya dengan rata rata peminjaman sebnayak 188 unit "
   ]
  },
  {
   "cell_type": "code",
   "execution_count": 29,
   "metadata": {},
   "outputs": [
    {
     "name": "stdout",
     "output_type": "stream",
     "text": [
      "Skewness: 0.21069990025847724\n"
     ]
    }
   ],
   "source": [
    "#menghitung skew\n",
    "skewness=countdalamjamharikerja.skew()\n",
    "print(\"Skewness:\",skewness)"
   ]
  },
  {
   "cell_type": "markdown",
   "metadata": {},
   "source": [
    "dengan skew 0.21 data sudah mendekati distribusi normal"
   ]
  },
  {
   "cell_type": "code",
   "execution_count": 30,
   "metadata": {},
   "outputs": [
    {
     "name": "stdout",
     "output_type": "stream",
     "text": [
      "kurtosis: -1.5625700822779323\n"
     ]
    }
   ],
   "source": [
    "#menghitung kurtosis\n",
    "kurtosis=countdalamjamharikerja.kurtosis()\n",
    "print(\"kurtosis:\",kurtosis)"
   ]
  },
  {
   "cell_type": "markdown",
   "metadata": {},
   "source": [
    "nilai kurtosis menujukan bahwa minimnya outlier dna bersifat Platykurtic"
   ]
  },
  {
   "cell_type": "code",
   "execution_count": 31,
   "metadata": {},
   "outputs": [
    {
     "data": {
      "text/plain": [
       "<Axes: xlabel='count'>"
      ]
     },
     "execution_count": 31,
     "metadata": {},
     "output_type": "execute_result"
    },
    {
     "data": {
      "image/png": "[encoded data removed]",
      "text/plain": [
       "<Figure size 640x480 with 1 Axes>"
      ]
     },
     "metadata": {},
     "output_type": "display_data"
    }
   ],
   "source": [
    "#menampilkan barplot\n",
    "countdalamjamharikerja.plot(kind='bar',xlabel='count')"
   ]
  },
  {
   "cell_type": "markdown",
   "metadata": {},
   "source": [
    "dari bar di atas kita mengetahui bahwa pucak peminjaman di jam 12 siang dan tersepinya di jam 4 pagi"
   ]
  },
  {
   "cell_type": "code",
   "execution_count": 32,
   "metadata": {},
   "outputs": [
    {
     "data": {
      "text/plain": [
       "<Axes: >"
      ]
     },
     "execution_count": 32,
     "metadata": {},
     "output_type": "execute_result"
    },
    {
     "data": {
      "image/png": "[encoded data removed]",
      "text/plain": [
       "<Figure size 640x480 with 1 Axes>"
      ]
     },
     "metadata": {},
     "output_type": "display_data"
    }
   ],
   "source": [
    "#manmpilkan boxplot\n",
    "countdalamjamharikerja.plot(kind='box')"
   ]
  },
  {
   "cell_type": "markdown",
   "metadata": {},
   "source": [
    "Dari data box plot kita mengetahui bahwa data tidak memiliki outlier"
   ]
  },
  {
   "cell_type": "markdown",
   "metadata": {},
   "source": [
    "### Dalam hari libur"
   ]
  },
  {
   "cell_type": "code",
   "execution_count": 33,
   "metadata": {},
   "outputs": [],
   "source": [
    "#membuat data jam dan libur\n",
    "countdalamjamharilibur =df[(df['workingday']=='Holiday')].groupby(df['datetime'].dt.hour)['count'].mean()"
   ]
  },
  {
   "cell_type": "code",
   "execution_count": 34,
   "metadata": {},
   "outputs": [
    {
     "name": "stdout",
     "output_type": "stream",
     "text": [
      "Maximum peminjam dalam jam dihari libur: 529.2090032154341\n",
      "Minimum peminjam dalam jam dihari libur: 4.892733564013841\n",
      "Rata-Rata peminjam dalam jam dihari libur: 191.8993485777601\n",
      "Nilai tengah peminjam dalam jam dihari libur: 182.61093247588425\n"
     ]
    }
   ],
   "source": [
    "#mecari max min mean\n",
    "maksimum=countdalamjamharilibur.max()\n",
    "minimum=countdalamjamharilibur.min()\n",
    "ratarata=countdalamjamharilibur.mean()\n",
    "median = countdalamjamharilibur.median()\n",
    "print(\"Maximum peminjam dalam jam dihari libur:\",maksimum)\n",
    "print(\"Minimum peminjam dalam jam dihari libur:\",minimum)\n",
    "print(\"Rata-Rata peminjam dalam jam dihari libur:\",ratarata)\n",
    "print(\"Nilai tengah peminjam dalam jam dihari libur:\",median)"
   ]
  },
  {
   "cell_type": "markdown",
   "metadata": {},
   "source": [
    "peminjaman di hari libur paling tinggi sebanyak 529 per jam nya dan paling rendah 4 per jamnya dengan rata rata 191 unit per jamnya"
   ]
  },
  {
   "cell_type": "code",
   "execution_count": 35,
   "metadata": {},
   "outputs": [
    {
     "name": "stdout",
     "output_type": "stream",
     "text": [
      "Skewness: 0.7800746505244135\n"
     ]
    }
   ],
   "source": [
    "#mencari skew\n",
    "skewness=countdalamjamharilibur.skew()\n",
    "print(\"Skewness:\",skewness)"
   ]
  },
  {
   "cell_type": "markdown",
   "metadata": {},
   "source": [
    "data memiliki skewed sedikit dimana data lebih banyak mendekati nilai tengah yaitu 182"
   ]
  },
  {
   "cell_type": "code",
   "execution_count": 36,
   "metadata": {},
   "outputs": [
    {
     "name": "stdout",
     "output_type": "stream",
     "text": [
      "kurtosis: 0.016589773549905207\n"
     ]
    }
   ],
   "source": [
    "#menghitung kurtosis\n",
    "kurtosis=countdalamjamharilibur.kurtosis()\n",
    "print(\"kurtosis:\",kurtosis)"
   ]
  },
  {
   "cell_type": "markdown",
   "metadata": {},
   "source": [
    "nilai kurtosis mendekati 0 artinya data mendekati distribusi normal"
   ]
  },
  {
   "cell_type": "code",
   "execution_count": 37,
   "metadata": {},
   "outputs": [
    {
     "data": {
      "text/plain": [
       "<Axes: xlabel='count'>"
      ]
     },
     "execution_count": 37,
     "metadata": {},
     "output_type": "execute_result"
    },
    {
     "data": {
      "image/png": "[encoded data removed]",
      "text/plain": [
       "<Figure size 640x480 with 1 Axes>"
      ]
     },
     "metadata": {},
     "output_type": "display_data"
    }
   ],
   "source": [
    "#menampilkan barplot\n",
    "countdalamjamharilibur.plot(kind='bar',xlabel='count')"
   ]
  },
  {
   "cell_type": "markdown",
   "metadata": {},
   "source": [
    "kita bisa mengetahui bahwa jam 4 sore merupakan peak dari peminjaman dan tersepinya di jam 3 pagi"
   ]
  },
  {
   "cell_type": "code",
   "execution_count": 38,
   "metadata": {},
   "outputs": [
    {
     "data": {
      "text/plain": [
       "<Axes: >"
      ]
     },
     "execution_count": 38,
     "metadata": {},
     "output_type": "execute_result"
    },
    {
     "data": {
      "image/png": "[encoded data removed]",
      "text/plain": [
       "<Figure size 640x480 with 1 Axes>"
      ]
     },
     "metadata": {},
     "output_type": "display_data"
    }
   ],
   "source": [
    "#manmpilkan boxplot\n",
    "countdalamjamharilibur.plot(kind='box')"
   ]
  },
  {
   "cell_type": "markdown",
   "metadata": {},
   "source": [
    "dari gambar box yang ada tidak di temukan nya outlier"
   ]
  },
  {
   "cell_type": "markdown",
   "metadata": {},
   "source": [
    "### Musim"
   ]
  },
  {
   "cell_type": "code",
   "execution_count": 39,
   "metadata": {},
   "outputs": [],
   "source": [
    "#membuat data masing masing musim\n",
    "countspring =df[(df['season']=='spring')].groupby(df['datetime'].dt.hour)['count'].mean()\n",
    "countsummer =df[(df['season']=='summer')].groupby(df['datetime'].dt.hour)['count'].mean()\n",
    "countfall =df[(df['season']=='fall')].groupby(df['datetime'].dt.hour)['count'].mean()\n",
    "countwinter =df[(df['season']=='winter')].groupby(df['datetime'].dt.hour)['count'].mean()"
   ]
  },
  {
   "cell_type": "code",
   "execution_count": 60,
   "metadata": {},
   "outputs": [
    {
     "name": "stdout",
     "output_type": "stream",
     "text": [
      "Maximum peminjam musim spring: 283.4561403508772\n",
      "Minimum peminjam musim spring: 3.3366336633663365\n",
      "Rata-Rata peminjam musim spring: 114.64235120667566\n",
      "============================================================\n",
      "Maximum peminjam musim summer: 540.3157894736842\n",
      "Minimum peminjam musim summer: 6.628318584070796\n",
      "Rata-Rata peminjam musim summer: 215.02633658260697\n",
      "============================================================\n",
      "Maximum peminjam musim fall: 565.3859649122807\n",
      "Minimum peminjam musim fall: 8.087719298245615\n",
      "Rata-Rata peminjam musim fall: 234.19382989183873\n",
      "============================================================\n",
      "Maximum peminjam musim winter: 485.9035087719298\n",
      "Minimum peminjam musim winter: 7.228070175438597\n",
      "Rata-Rata peminjam musim winter: 198.85100120091897\n"
     ]
    }
   ],
   "source": [
    "#mecari max min mean\n",
    "maksimumspring=countspring.max()\n",
    "minimumspring=countspring.min()\n",
    "ratarataspring=countspring.mean()\n",
    "\n",
    "maksimumsummer=countsummer.max()\n",
    "minimumsummer=countsummer.min()\n",
    "rataratasummer=countsummer.mean()\n",
    "\n",
    "maksimumfall=countfall.max()\n",
    "minimumfall=countfall.min()\n",
    "rataratafall=countfall.mean()\n",
    "\n",
    "maksimumwinter=countwinter.max()\n",
    "minimumwinter=countwinter.min()\n",
    "rataratawinter=countwinter.mean()\n",
    "\n",
    "print(\"Maximum peminjam musim spring:\",maksimumspring)\n",
    "print(\"Minimum peminjam musim spring:\",minimumspring)\n",
    "print(\"Rata-Rata peminjam musim spring:\",ratarataspring)\n",
    "\n",
    "print('============================================================')\n",
    "print(\"Maximum peminjam musim summer:\",maksimumsummer)\n",
    "print(\"Minimum peminjam musim summer:\",minimumsummer)\n",
    "print(\"Rata-Rata peminjam musim summer:\",rataratasummer)\n",
    "print('============================================================')\n",
    "print(\"Maximum peminjam musim fall:\",maksimumfall)\n",
    "print(\"Minimum peminjam musim fall:\",minimumfall)\n",
    "print(\"Rata-Rata peminjam musim fall:\",rataratafall)\n",
    "print('============================================================')\n",
    "print(\"Maximum peminjam musim winter:\",maksimumwinter)\n",
    "print(\"Minimum peminjam musim winter:\",minimumwinter)\n",
    "print(\"Rata-Rata peminjam musim winter:\",rataratawinter)"
   ]
  },
  {
   "cell_type": "markdown",
   "metadata": {},
   "source": [
    "dari data di atas kita bisa mengetahui bahwa rata rata setiap musimnya berbeda dengan musim fall memiliki peminjam terbnayak dan musim spring paling sedikit"
   ]
  },
  {
   "cell_type": "code",
   "execution_count": 62,
   "metadata": {},
   "outputs": [
    {
     "data": {
      "text/plain": [
       "datetime\n",
       "0      75.675439\n",
       "1      44.831858\n",
       "2      31.707965\n",
       "3      15.778761\n",
       "4       8.087719\n",
       "5      25.728070\n",
       "6      96.780702\n",
       "7     264.035088\n",
       "8     403.508772\n",
       "9     250.710526\n",
       "10    218.535088\n",
       "11    256.877193\n",
       "12    307.017544\n",
       "13    304.421053\n",
       "14    286.350877\n",
       "15    294.956140\n",
       "16    371.324561\n",
       "17    565.385965\n",
       "18    539.070175\n",
       "19    413.500000\n",
       "20    307.842105\n",
       "21    236.017544\n",
       "22    180.789474\n",
       "23    121.719298\n",
       "Name: count, dtype: float64"
      ]
     },
     "execution_count": 62,
     "metadata": {},
     "output_type": "execute_result"
    }
   ],
   "source": []
  },
  {
   "cell_type": "code",
   "execution_count": 41,
   "metadata": {},
   "outputs": [
    {
     "name": "stdout",
     "output_type": "stream",
     "text": [
      "Skewness spring: 0.35412082570132514\n",
      "Skewness summer: 0.3420671353736658\n",
      "Skewness fall: 0.29374823244354303\n",
      "Skewness winter: 0.26306919926712785\n"
     ]
    }
   ],
   "source": [
    "#mencari skew\n",
    "skewnesspring=countspring.skew()\n",
    "skewnesssummer=countsummer.skew()\n",
    "skewnessfall=countfall.skew()\n",
    "skewnesswinter=countwinter.skew()\n",
    "print(\"Skewness spring:\",skewnesspring)\n",
    "print(\"Skewness summer:\",skewnesssummer)\n",
    "print(\"Skewness fall:\",skewnessfall)\n",
    "print(\"Skewness winter:\",skewnesswinter)"
   ]
  },
  {
   "cell_type": "markdown",
   "metadata": {},
   "source": [
    "dari data skew kita mengetahui bahwa data berdistribusi normal"
   ]
  },
  {
   "cell_type": "code",
   "execution_count": 42,
   "metadata": {},
   "outputs": [
    {
     "name": "stdout",
     "output_type": "stream",
     "text": [
      "kurtosis spring: -0.6848908653017198\n",
      "kurtosis summer: -0.4978754721253855\n",
      "kurtosis fall: -0.47664437969051887\n",
      "kurtosis winter: -0.6848908653017198\n"
     ]
    }
   ],
   "source": [
    "#menghitung kurtosis\n",
    "kurtosisspring=countspring.kurtosis()\n",
    "kurtosissummer=countsummer.kurtosis()\n",
    "kurtosisfall=countfall.kurtosis()\n",
    "kurtosiswinter=countspring.kurtosis()\n",
    "print(\"kurtosis spring:\",kurtosisspring)\n",
    "print(\"kurtosis summer:\",kurtosissummer)\n",
    "print(\"kurtosis fall:\",kurtosisfall)\n",
    "print(\"kurtosis winter:\",kurtosiswinter)"
   ]
  },
  {
   "cell_type": "markdown",
   "metadata": {},
   "source": [
    "dari data di atas kita bisa mengetahui bahwa data memiliki ekor yang datar atau pendek"
   ]
  },
  {
   "cell_type": "code",
   "execution_count": 43,
   "metadata": {},
   "outputs": [
    {
     "data": {
      "text/plain": [
       "<Axes: xlabel='datetime'>"
      ]
     },
     "execution_count": 43,
     "metadata": {},
     "output_type": "execute_result"
    },
    {
     "data": {
      "image/png": "[encoded data removed]",
      "text/plain": [
       "<Figure size 640x480 with 1 Axes>"
      ]
     },
     "metadata": {},
     "output_type": "display_data"
    }
   ],
   "source": [
    "#manmpilkan boxplot spring\n",
    "countspring.plot(kind='bar')\n"
   ]
  },
  {
   "cell_type": "markdown",
   "metadata": {},
   "source": [
    "dari data di atas kita mengetahui bahwa puncaknya di musim spring pada jam 5 sore dan tersepinya jma 4 pagi"
   ]
  },
  {
   "cell_type": "code",
   "execution_count": 44,
   "metadata": {},
   "outputs": [
    {
     "data": {
      "text/plain": [
       "<Axes: xlabel='datetime'>"
      ]
     },
     "execution_count": 44,
     "metadata": {},
     "output_type": "execute_result"
    },
    {
     "data": {
      "image/png": "[encoded data removed]",
      "text/plain": [
       "<Figure size 640x480 with 1 Axes>"
      ]
     },
     "metadata": {},
     "output_type": "display_data"
    }
   ],
   "source": [
    "#menampilkan barplot fall\n",
    "countfall.plot(kind='bar')"
   ]
  },
  {
   "cell_type": "markdown",
   "metadata": {},
   "source": [
    "dari data di atas kita mengetahui bahwa puncaknya di musim fall pada jam 5 sore dan tersepinya jma 4 pagi"
   ]
  },
  {
   "cell_type": "code",
   "execution_count": 45,
   "metadata": {},
   "outputs": [
    {
     "data": {
      "text/plain": [
       "<Axes: xlabel='datetime'>"
      ]
     },
     "execution_count": 45,
     "metadata": {},
     "output_type": "execute_result"
    },
    {
     "data": {
      "image/png": "[encoded data removed]",
      "text/plain": [
       "<Figure size 640x480 with 1 Axes>"
      ]
     },
     "metadata": {},
     "output_type": "display_data"
    }
   ],
   "source": [
    "#menampilkan barplot summer\n",
    "countsummer.plot(kind='bar')"
   ]
  },
  {
   "cell_type": "markdown",
   "metadata": {},
   "source": [
    "dari data di atas kita mengetahui bahwa puncaknya di musim summer pada jam 5 sore dan tersepinya jma 4 pagi"
   ]
  },
  {
   "cell_type": "code",
   "execution_count": 46,
   "metadata": {},
   "outputs": [
    {
     "data": {
      "text/plain": [
       "<Axes: xlabel='datetime'>"
      ]
     },
     "execution_count": 46,
     "metadata": {},
     "output_type": "execute_result"
    },
    {
     "data": {
      "image/png": "[encoded data removed]",
      "text/plain": [
       "<Figure size 640x480 with 1 Axes>"
      ]
     },
     "metadata": {},
     "output_type": "display_data"
    }
   ],
   "source": [
    "#menampilkan barplot winter\n",
    "countwinter.plot(kind='bar')"
   ]
  },
  {
   "cell_type": "markdown",
   "metadata": {},
   "source": [
    "dari data di atas kita mengetahui bahwa puncaknya di musim winter pada jam 5 sore dan tersepinya jma 4 pagi"
   ]
  },
  {
   "cell_type": "code",
   "execution_count": 47,
   "metadata": {},
   "outputs": [
    {
     "data": {
      "text/plain": [
       "<Axes: >"
      ]
     },
     "execution_count": 47,
     "metadata": {},
     "output_type": "execute_result"
    },
    {
     "data": {
      "image/png": "[encoded data removed]",
      "text/plain": [
       "<Figure size 640x480 with 1 Axes>"
      ]
     },
     "metadata": {},
     "output_type": "display_data"
    }
   ],
   "source": [
    "#manmpilkan boxplot spring\n",
    "countspring.plot(kind='box')"
   ]
  },
  {
   "cell_type": "markdown",
   "metadata": {},
   "source": [
    "dari boxplot spring tidak ditemukanya outlier"
   ]
  },
  {
   "cell_type": "code",
   "execution_count": 48,
   "metadata": {},
   "outputs": [
    {
     "data": {
      "text/plain": [
       "<Axes: >"
      ]
     },
     "execution_count": 48,
     "metadata": {},
     "output_type": "execute_result"
    },
    {
     "data": {
      "image/png": "[encoded data removed]",
      "text/plain": [
       "<Figure size 640x480 with 1 Axes>"
      ]
     },
     "metadata": {},
     "output_type": "display_data"
    }
   ],
   "source": [
    "#manmpilkan boxplot fall\n",
    "countfall.plot(kind='box')"
   ]
  },
  {
   "cell_type": "markdown",
   "metadata": {},
   "source": [
    "dari boxplot fall tidak ditemukanya outlier"
   ]
  },
  {
   "cell_type": "code",
   "execution_count": 49,
   "metadata": {},
   "outputs": [
    {
     "data": {
      "text/plain": [
       "<Axes: >"
      ]
     },
     "execution_count": 49,
     "metadata": {},
     "output_type": "execute_result"
    },
    {
     "data": {
      "image/png": "[encoded data removed]",
      "text/plain": [
       "<Figure size 640x480 with 1 Axes>"
      ]
     },
     "metadata": {},
     "output_type": "display_data"
    }
   ],
   "source": [
    "#manmpilkan boxplot summer\n",
    "countsummer.plot(kind='box')"
   ]
  },
  {
   "cell_type": "markdown",
   "metadata": {},
   "source": [
    "dari boxplot summer tidak ditemukanya outlier"
   ]
  },
  {
   "cell_type": "code",
   "execution_count": 50,
   "metadata": {},
   "outputs": [
    {
     "data": {
      "text/plain": [
       "<Axes: >"
      ]
     },
     "execution_count": 50,
     "metadata": {},
     "output_type": "execute_result"
    },
    {
     "data": {
      "image/png": "[encoded data removed]",
      "text/plain": [
       "<Figure size 640x480 with 1 Axes>"
      ]
     },
     "metadata": {},
     "output_type": "display_data"
    }
   ],
   "source": [
    "#manmpilkan boxplot winter\n",
    "countwinter.plot(kind='box')"
   ]
  },
  {
   "cell_type": "markdown",
   "metadata": {},
   "source": [
    "dari boxplot winter tidak ditemukanya outlier"
   ]
  },
  {
   "cell_type": "markdown",
   "metadata": {},
   "source": [
    "### Inferensial"
   ]
  },
  {
   "cell_type": "code",
   "execution_count": 51,
   "metadata": {},
   "outputs": [],
   "source": [
    "from scipy.stats import f_oneway\n",
    "#membuat data musiman\n",
    "rental_summer = df[df['season'] == 'summer']['count']\n",
    "rental_fall = df[df['season'] == 'fall']['count']\n",
    "rental_winter = df[df['season'] == 'winter']['count']\n",
    "rental_spring = df[df['season'] == 'spring']['count']"
   ]
  },
  {
   "cell_type": "code",
   "execution_count": 52,
   "metadata": {},
   "outputs": [
    {
     "name": "stdout",
     "output_type": "stream",
     "text": [
      "skewness: 1.0032642267278118\n",
      "skewness: 0.9914946474772749\n",
      "skewness: 1.172117329762622\n",
      "skewness: 1.8880559001782309\n"
     ]
    }
   ],
   "source": [
    "#mnghitung skew\n",
    "print(\"skewness:\",rental_summer.skew())\n",
    "print(\"skewness:\",rental_fall.skew())\n",
    "print(\"skewness:\",rental_winter.skew())\n",
    "print(\"skewness:\",rental_spring.skew())"
   ]
  },
  {
   "cell_type": "markdown",
   "metadata": {},
   "source": [
    "Di keathui data setiap musim tidak berdistribusi normal maka dari itu kita akan melakukan pengujian dengan kruskal"
   ]
  },
  {
   "cell_type": "markdown",
   "metadata": {},
   "source": [
    "Mencari tahu pengaruh musim terhadap jumlah pengguna"
   ]
  },
  {
   "cell_type": "markdown",
   "metadata": {},
   "source": [
    "* (H0): Tidak ada perbedaan signifikan dalam jumlah penyewaan antara musim-musim yang diuji.\n",
    "* (H1): Ada perbedaan signifikan dalam jumlah penyewaan antara musim-musim yang diuji."
   ]
  },
  {
   "cell_type": "code",
   "execution_count": 53,
   "metadata": {},
   "outputs": [
    {
     "name": "stdout",
     "output_type": "stream",
     "text": [
      "Nilai H-statistic: 699.6668548181988\n",
      "Nilai p-value: 2.479008372608633e-151\n"
     ]
    }
   ],
   "source": [
    "from scipy.stats import kruskal\n",
    "#mencari value p dengan kruskal\n",
    "H_statistic, p_value = kruskal(rental_summer, rental_fall, rental_winter, rental_spring)\n",
    "\n",
    "print(\"Nilai H-statistic:\", H_statistic)\n",
    "print(\"Nilai p-value:\", p_value)"
   ]
  },
  {
   "cell_type": "markdown",
   "metadata": {},
   "source": [
    "dari uji kruskal di dapati bahwa terdapat pengaruh yang signifikan antara jumlah penyewaan dan musim"
   ]
  },
  {
   "cell_type": "markdown",
   "metadata": {},
   "source": [
    "Kita akan menguji pengaruh hari libur dan hari kerja dengan anova, akan tetapi sebelom di gunakanya anova kita harus memeastikan data sudah berdistribusi normal"
   ]
  },
  {
   "cell_type": "code",
   "execution_count": 54,
   "metadata": {},
   "outputs": [
    {
     "name": "stdout",
     "output_type": "stream",
     "text": [
      "skewness kerja 0.9640377812359698\n",
      "skewness libur 1.3467224377106803\n"
     ]
    }
   ],
   "source": [
    "kerja=df.query('workingday == \"Workday\"')\n",
    "libur=df.query('workingday == \"Holiday\"')\n",
    "#data kerja dan libur\n",
    "print(\"skewness kerja\", df[(df['workingday']=='Workday')]['count'].skew())\n",
    "print(\"skewness libur\",df[(df['workingday']=='Holiday')]['count'].skew())"
   ]
  },
  {
   "cell_type": "markdown",
   "metadata": {},
   "source": [
    "diketahui data tidak berdstribusi normal maka kita akan coba menghilangkan outlier"
   ]
  },
  {
   "cell_type": "code",
   "execution_count": 55,
   "metadata": {},
   "outputs": [
    {
     "name": "stdout",
     "output_type": "stream",
     "text": [
      "Minimum boundary adalah: -346.0\n",
      "Maximum boundary adalah: 694.0\n",
      "Total outlier 16 data\n"
     ]
    },
    {
     "data": {
      "text/plain": [
       "0.9290494889962104"
      ]
     },
     "execution_count": 55,
     "metadata": {},
     "output_type": "execute_result"
    }
   ],
   "source": [
    "#menegtahui oulier kerja \n",
    "kerja=df.query('workingday == \"Workday\"')\n",
    "\n",
    "q3 = kerja['count'].quantile(0.75)\n",
    "q1 = kerja['count'].quantile(0.25)\n",
    "\n",
    "iqr = q3 - q1\n",
    "\n",
    "min_boundarykerja = q1 - (iqr * 1.5)\n",
    "max_boundarykerja = q3 + (iqr * 1.5)\n",
    "\n",
    "print(f'Minimum boundary adalah: {min_boundarykerja}')\n",
    "print(f'Maximum boundary adalah: {max_boundarykerja}')\n",
    "\n",
    "outlierkerja = kerja[(kerja['count'] < min_boundarykerja) | (kerja['count'] > max_boundarykerja)]\n",
    "no_outlierkerja = kerja[(kerja['count'] >= min_boundarykerja) & (kerja['count'] <= max_boundarykerja)]\n",
    "\n",
    "print(f'Total outlier {len(outlierkerja)} data')\n",
    "no_outlierkerja['count'].skew()"
   ]
  },
  {
   "cell_type": "markdown",
   "metadata": {},
   "source": [
    "dari data di atas kita bisa melihat bahwa data tidak berubah secara signifikan, skew yang tadi 0,96 menajdi 0,92 artinya da perubahan data dan penghilanan outlier tapi belum cukup untuk menjadi distribusi normal maka kita akan menggunakan nonparametrik karena kita membandingkan 2 kelompok maka kita akan menggunakan manwhitneyu"
   ]
  },
  {
   "cell_type": "code",
   "execution_count": 56,
   "metadata": {},
   "outputs": [
    {
     "name": "stdout",
     "output_type": "stream",
     "text": [
      "Nilai U-Statistic: 12880792.5\n",
      "Nilai p-value: 0.9679139953914079\n"
     ]
    }
   ],
   "source": [
    "from scipy.stats import mannwhitneyu\n",
    "\n",
    "# Pisahkan data pengguna sepeda untuk hari kerja dan hari libur\n",
    "users_workday = df[df['workingday'] == 'Workday']['count']\n",
    "users_holiday = df[df['workingday'] == 'Holiday']['count']\n",
    "\n",
    "# Lakukan uji Mann-Whitney U\n",
    "u_statistic, p_value = mannwhitneyu(users_workday, users_holiday)\n",
    "\n",
    "# Output hasil uji\n",
    "print(\"Nilai U-Statistic:\", u_statistic)\n",
    "print(\"Nilai p-value:\", p_value)\n"
   ]
  },
  {
   "cell_type": "markdown",
   "metadata": {},
   "source": [
    "* h0: rata rata hari kerja == rata rata hari libur\n",
    "* h1: rata rata hari libur != rata rata hari kerja\n",
    "\n",
    "dari data di atas di dapati bahwa nilai p value lebih besar dair 0.05 maka rata rata hari libur tidak sama dengan rata rata hari kerja. dengan kata lain kita tidak bisa membandingkan signifikansi terhadap penggunaan sepeda."
   ]
  },
  {
   "cell_type": "markdown",
   "metadata": {},
   "source": [
    "# kesimpulan"
   ]
  },
  {
   "cell_type": "markdown",
   "metadata": {},
   "source": [
    "* penyewaan paling banyak di gunakan Di hari libur jam 5 sore dan di hari kerja jam 12 siang\n",
    "* pada setiap musimnya jam teramai ada pada jam 5 sore dan tersepi jam 4 pagi dengan musim fall memiliki peminjam terbanyak dan musim spring tersepi\n",
    "* dikarenakan data hari kerja dan libur memiliki rata rata yang berbdeda maka kita tidak bisa memastikanya akan tetapi di hari libur puncaknya di jam 5 sore dan di hari kerja puncaknya jam 12 siang. akan tetapi sjika di bandigkan secara rata rata hari libur memiliki rata rata lebih tinggi di bandingkan hari kerja\n",
    "* rekor waktu penywaan sepi yang pernah tercatat tersepinya terjadi pada 1 januari di hari libur dengan jumlah peminjmam 1 unit"
   ]
  },
  {
   "cell_type": "markdown",
   "metadata": {},
   "source": [
    "## rekomendasi"
   ]
  },
  {
   "cell_type": "markdown",
   "metadata": {},
   "source": [
    "* dihari kerja waktu teramai di mulai dari jam 7 sampai jam 11 pastikan untuk menjaga kondisi sepeda tetap prima di jam tersebut dan untuk pengecekan atau perbaikan sebaiknya di lakukan di jam 3 pagi sapai jam 6 pagi\n",
    "* dihari libur untuk puncaknya berbagi menjadi dua jam 8 pagi dan jam 5 sore dan terdaopat penuruan di jam 9 pagi sampai jam 3 sore sehingga memungkinkan untuk merawat atau mnegecas sebelom di gunakan kembali\n",
    "* Musim memiliki pengaruh signfikan terhadap jumlah pengguna dengan musim fall memiliki rata rata pengguna terbanyak, pastikan kondisi sepeda dan jumlah sepeda cukup sebelom musim fall"
   ]
  }
 ],
 "metadata": {
  "kernelspec": {
   "display_name": "Python 3",
   "language": "python",
   "name": "python3"
  },
  "language_info": {
   "codemirror_mode": {
    "name": "ipython",
    "version": 3
   },
   "file_extension": ".py",
   "mimetype": "text/x-python",
   "name": "python",
   "nbconvert_exporter": "python",
   "pygments_lexer": "ipython3",
   "version": "3.12.2"
  }
 },
 "nbformat": 4,
 "nbformat_minor": 2
}
